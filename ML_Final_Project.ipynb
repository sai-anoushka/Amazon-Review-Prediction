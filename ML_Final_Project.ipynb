{
  "nbformat": 4,
  "nbformat_minor": 0,
  "metadata": {
    "colab": {
      "provenance": [],
      "machine_shape": "hm",
      "gpuType": "L4"
    },
    "kernelspec": {
      "name": "python3",
      "display_name": "Python 3"
    },
    "language_info": {
      "name": "python"
    },
    "accelerator": "GPU"
  },
  "cells": [
    {
      "cell_type": "markdown",
      "source": [
        "Drive mouniting\n"
      ],
      "metadata": {
        "id": "I2BUORkxEGPn"
      }
    },
    {
      "cell_type": "code",
      "execution_count": null,
      "metadata": {
        "colab": {
          "base_uri": "https://localhost:8080/"
        },
        "id": "hbY5mlhsPmHZ",
        "outputId": "aeac20f8-b4d3-45d5-ba3c-b54fb6e3387a"
      },
      "outputs": [
        {
          "output_type": "stream",
          "name": "stdout",
          "text": [
            "Mounted at /content/drive\n"
          ]
        }
      ],
      "source": [
        "from google.colab import drive\n",
        "\n",
        "# This will prompt for authorization and mount your Google Drive.\n",
        "drive.mount('/content/drive')\n",
        "\n",
        "\n"
      ]
    },
    {
      "cell_type": "code",
      "source": [
        "# Unzipping the file\n",
        "!gunzip \"{file_path}\"\n"
      ],
      "metadata": {
        "colab": {
          "base_uri": "https://localhost:8080/"
        },
        "id": "g91gTNxSPtBN",
        "outputId": "7e469165-02c5-4b81-8ee0-ee736144c8f2"
      },
      "execution_count": null,
      "outputs": [
        {
          "output_type": "stream",
          "name": "stdout",
          "text": [
            "gzip: {file_path}.gz: No such file or directory\n"
          ]
        }
      ]
    },
    {
      "cell_type": "markdown",
      "source": [
        "Loading the data set\n"
      ],
      "metadata": {
        "id": "rL3Bf3B7EOW2"
      }
    },
    {
      "cell_type": "code",
      "source": [
        "import pandas as pd\n",
        "import numpy as np\n",
        "from sklearn.model_selection import train_test_split\n",
        "from sklearn.feature_extraction.text import TfidfVectorizer\n",
        "from sklearn.preprocessing import LabelEncoder\n",
        "import nltk\n",
        "from nltk.corpus import stopwords\n",
        "from nltk.tokenize import word_tokenize\n",
        "import re\n",
        "\n",
        "# Load dataset\n",
        "file_path = '/content/drive/My Drive/Toys_and_Games_5.json'\n",
        "df = pd.read_json(file_path, lines=True)"
      ],
      "metadata": {
        "id": "EXM-DGvjPwjk"
      },
      "execution_count": null,
      "outputs": []
    },
    {
      "cell_type": "markdown",
      "source": [
        "Handling missing values for summary reviewer id and asin id"
      ],
      "metadata": {
        "id": "zTz0hMTOERsK"
      }
    },
    {
      "cell_type": "code",
      "source": [
        "df['summary'] = df['summary'].fillna('no summary')\n",
        "df['reviewerID'] = df['reviewerID'].fillna('unknown')\n",
        "df['asin'] = df['asin'].fillna('unknown')"
      ],
      "metadata": {
        "id": "-1GIAMjXQAbL"
      },
      "execution_count": null,
      "outputs": []
    },
    {
      "cell_type": "markdown",
      "source": [
        "Performing text cleaning by removing stop words and converting string to lower case"
      ],
      "metadata": {
        "id": "k1k-5CgjEZ4U"
      }
    },
    {
      "cell_type": "code",
      "source": [
        "nltk.download('punkt')\n",
        "nltk.download('stopwords')\n",
        "stop_words = set(stopwords.words('english'))\n",
        "\n",
        "def clean_text(text):\n",
        "    text = text.lower()\n",
        "    text = re.sub(r'\\W', ' ', text)  # remove all non-word characters\n",
        "    word_tokens = word_tokenize(text)\n",
        "    filtered_text = [word for word in word_tokens if not word in stop_words]\n",
        "    return ' '.join(filtered_text)\n",
        "\n",
        "df['clean_summary'] = df['summary'].apply(clean_text)\n"
      ],
      "metadata": {
        "colab": {
          "base_uri": "https://localhost:8080/"
        },
        "id": "aAyyJHbtQDL2",
        "outputId": "83335f24-fcb9-4bd1-a432-a8c1c522c2e9"
      },
      "execution_count": null,
      "outputs": [
        {
          "output_type": "stream",
          "name": "stderr",
          "text": [
            "[nltk_data] Downloading package punkt to /root/nltk_data...\n",
            "[nltk_data]   Unzipping tokenizers/punkt.zip.\n",
            "[nltk_data] Downloading package stopwords to /root/nltk_data...\n",
            "[nltk_data]   Unzipping corpora/stopwords.zip.\n"
          ]
        }
      ]
    },
    {
      "cell_type": "markdown",
      "source": [
        " TF-IDF Vectorization"
      ],
      "metadata": {
        "id": "Up1tc70zEkPs"
      }
    },
    {
      "cell_type": "code",
      "source": [
        "tfidf = TfidfVectorizer(max_features=100, stop_words='english')\n",
        "tfidf_matrix = tfidf.fit_transform(df['clean_summary'])\n",
        "tfidf_df = pd.DataFrame(tfidf_matrix.toarray(), columns=tfidf.get_feature_names_out())"
      ],
      "metadata": {
        "id": "72J3kWrjQFUK"
      },
      "execution_count": null,
      "outputs": []
    },
    {
      "cell_type": "markdown",
      "source": [
        " Encode categorical variables"
      ],
      "metadata": {
        "id": "l1Q6lWSHEnGE"
      }
    },
    {
      "cell_type": "code",
      "source": [
        "le = LabelEncoder()\n",
        "df['reviewerID_encoded'] = le.fit_transform(df['reviewerID'])\n",
        "df['asin_encoded'] = le.fit_transform(df['asin'])\n",
        "\n"
      ],
      "metadata": {
        "id": "pMXoPxJ4QHcV"
      },
      "execution_count": null,
      "outputs": []
    },
    {
      "cell_type": "markdown",
      "source": [
        "Combine all features into one DataFrame"
      ],
      "metadata": {
        "id": "KuMMAZ9qEqTJ"
      }
    },
    {
      "cell_type": "code",
      "source": [
        "df_final = pd.concat([df[['overall', 'verified']], tfidf_df], axis=1)\n",
        "df_final['verified'] = df_final['verified'].astype(int)\n",
        "\n",
        "x = df_final.drop('overall', axis=1)\n",
        "y = df_final['overall'].astype(float)"
      ],
      "metadata": {
        "id": "4XhA4n9qQJSq"
      },
      "execution_count": null,
      "outputs": []
    },
    {
      "cell_type": "markdown",
      "source": [
        "Random forest Regressor"
      ],
      "metadata": {
        "id": "RItCaMJXEtOl"
      }
    },
    {
      "cell_type": "code",
      "source": [
        "import numpy as np\n",
        "from sklearn.ensemble import RandomForestRegressor\n",
        "from sklearn.svm import SVR\n",
        "from sklearn.model_selection import cross_val_score, KFold\n",
        "from sklearn.metrics import mean_squared_error\n",
        "\n",
        "# Initialize models\n",
        "rf_model = RandomForestRegressor(n_estimators=1, random_state=42,verbose = 1)\n",
        "\n",
        "# Set up K-Fold cross-validation\n",
        "kf = KFold(n_splits=5, shuffle=True, random_state=42)\n",
        "\n",
        "# Perform cross-validation and calculate RMSE for RandomForest\n",
        "rf_mse = cross_val_score(rf_model, x, y, cv=kf, scoring='neg_mean_squared_error',verbose = 1)\n"
      ],
      "metadata": {
        "id": "vJS_8GPtQLqv"
      },
      "execution_count": null,
      "outputs": []
    },
    {
      "cell_type": "code",
      "source": [
        "rf_rmse = np.sqrt(-rf_mse)\n",
        "print(\"Random Forest RMSE scores for each fold:\", rf_rmse)\n",
        "print(\"Minimum RF RMSE:\", min(np.abs(rf_rmse)))\n",
        "print(\"Random Forest RMSE scores for each fold:\", rf_mse)\n",
        "print(\"Minimum RF MSE:\", min(np.abs(rf_mse)))\n",
        "print(\"Average RMSE:\", np.mean(rf_rmse))"
      ],
      "metadata": {
        "colab": {
          "base_uri": "https://localhost:8080/"
        },
        "id": "hJMTc3TUxwW1",
        "outputId": "e867e48b-2abe-4e44-b546-5ac6ec8a0e21"
      },
      "execution_count": null,
      "outputs": [
        {
          "output_type": "stream",
          "name": "stdout",
          "text": [
            "Random Forest RMSE scores for each fold: [0.87703552 0.87668735 0.87794506 0.87747315 0.87903336]\n",
            "Minimum RF RMSE: 0.8766873481850777\n",
            "Random Forest RMSE scores for each fold: [-0.7691913  -0.76858071 -0.77078754 -0.76995914 -0.77269965]\n",
            "Minimum RF MSE: 0.7685807064677835\n",
            "Average RMSE: 0.8776348895973216\n"
          ]
        }
      ]
    },
    {
      "cell_type": "code",
      "source": [
        "import numpy as np\n",
        "from sklearn.ensemble import RandomForestRegressor\n",
        "from sklearn.model_selection import cross_val_score, KFold\n",
        "from sklearn.metrics import mean_squared_error\n",
        "\n",
        "# Initialize models\n",
        "rf_model = RandomForestRegressor(n_estimators=5, random_state=42,verbose = 1)\n",
        "\n",
        "# Set up K-Fold cross-validation\n",
        "kf = KFold(n_splits=5, shuffle=True, random_state=42)\n",
        "\n",
        "# Perform cross-validation and calculate RMSE for RandomForest\n",
        "rf_mse = cross_val_score(rf_model, x, y, cv=kf, scoring='neg_mean_squared_error',verbose = 1)\n"
      ],
      "metadata": {
        "id": "u1efWr_B8-Gi"
      },
      "execution_count": null,
      "outputs": []
    },
    {
      "cell_type": "code",
      "source": [
        "rf_rmse = np.sqrt(-rf_mse)\n",
        "print(\"Random Forest RMSE scores for each fold:\", rf_rmse)\n",
        "print(\"Minimum RF RMSE:\", min(np.abs(rf_rmse)))\n",
        "print(\"Random Forest RMSE scores for each fold:\", rf_mse)\n",
        "print(\"Minimum RF MSE:\", min(np.abs(rf_mse)))\n",
        "print(\"Average RMSE:\", np.mean(rf_rmse))"
      ],
      "metadata": {
        "id": "Y3gwTvF1EA_7",
        "colab": {
          "base_uri": "https://localhost:8080/"
        },
        "outputId": "acf64f95-db68-4839-eaaa-3c9200bbfa63"
      },
      "execution_count": null,
      "outputs": [
        {
          "output_type": "stream",
          "name": "stdout",
          "text": [
            "Random Forest RMSE scores for each fold: [0.86545623 0.86484037 0.86704684 0.86556861 0.86704871]\n",
            "Minimum RF RMSE: 0.864840373282365\n",
            "Random Forest RMSE scores for each fold: [-0.74901449 -0.74794887 -0.75177022 -0.74920902 -0.75177346]\n",
            "Minimum RF MSE: 0.7479488712591804\n",
            "Average RMSE: 0.8659921521627035\n"
          ]
        }
      ]
    },
    {
      "cell_type": "markdown",
      "source": [
        "Linear Regression Model"
      ],
      "metadata": {
        "id": "SxfgxQ8jLvF4"
      }
    },
    {
      "cell_type": "code",
      "source": [
        "from sklearn.linear_model import LinearRegression\n",
        "\n",
        "# Initialize the Linear Regression model\n",
        "lr_model = LinearRegression()\n",
        "\n",
        "# Perform cross-validation and calculate RMSE for Linear Regression\n",
        "lr_mse = cross_val_score(lr_model, x, y, cv=kf, scoring='neg_mean_squared_error', verbose=1)\n",
        "lr_rmse = np.sqrt(-lr_mse)"
      ],
      "metadata": {
        "id": "h3eRSbLuLxjt"
      },
      "execution_count": null,
      "outputs": []
    },
    {
      "cell_type": "code",
      "source": [
        "rf_rmse = np.sqrt(-rf_mse)\n",
        "print(\"Linear regression RMSE scores for each fold:\", lr_rmse)\n",
        "print(\"Minimum LR RMSE:\", min(np.abs(lr_rmse)))\n",
        "print(\"Linear regression RMSE scores for each fold:\", lr_mse)\n",
        "print(\"Minimum LR MSE:\", min(np.abs(lr_mse)))\n",
        "print(\"Average LR RMSE:\", np.mean(lr_rmse))"
      ],
      "metadata": {
        "id": "4TuG5_kuL8C1",
        "colab": {
          "base_uri": "https://localhost:8080/"
        },
        "outputId": "92e879d5-19a7-4c35-a980-e37d89f4fbfb"
      },
      "execution_count": null,
      "outputs": [
        {
          "output_type": "stream",
          "name": "stdout",
          "text": [
            "Linear regression RMSE scores for each fold: [0.87611804 0.87490891 0.87738844 0.87558865 0.87758545]\n",
            "Minimum LR RMSE: 0.874908907988132\n",
            "Linear regression RMSE scores for each fold: [-0.76758283 -0.7654656  -0.76981048 -0.76665548 -0.77015623]\n",
            "Minimum LR MSE: 0.7654655972769856\n",
            "Average LR RMSE: 0.8763178994153137\n"
          ]
        }
      ]
    },
    {
      "cell_type": "markdown",
      "source": [
        "XG Boost Model"
      ],
      "metadata": {
        "id": "jYOquomFFUdq"
      }
    },
    {
      "cell_type": "code",
      "source": [
        "# XGBoost Model\n",
        "from sklearn.model_selection import GridSearchCV\n",
        "import xgboost as xgb\n",
        "xg_model = xgb.XGBRegressor(objective ='reg:squarederror', colsample_bytree=0.3, learning_rate=0.1, max_depth=5, alpha=10, n_estimators=5, random_state=42)\n",
        "param_grid_xg = {\n",
        "    'n_estimators': [5, 10, 15],\n",
        "    'max_depth': [3, 5],\n",
        "    'learning_rate': [0.01, 0.1, 0.2],\n",
        "    'subsample': [0.5, 0.7, 1]\n",
        "}\n",
        "grid_search_xg = GridSearchCV(estimator=xg_model, param_grid=param_grid_xg, cv=kf, scoring='neg_mean_squared_error', verbose=1, n_jobs=-1)\n",
        "grid_search_xg.fit(x, y)\n",
        "best_xg = grid_search_xg.best_estimator_\n",
        "xg_rmse = np.sqrt(-cross_val_score(best_xg, x, y, cv=kf, scoring='neg_mean_squared_error', verbose=1))\n",
        "print(\"XGBoost RMSE scores for each fold:\", xg_rmse)\n",
        "print(\"Average XGBoost RMSE:\", np.mean(xg_rmse))"
      ],
      "metadata": {
        "id": "1Ic4a5xzTb2W",
        "colab": {
          "base_uri": "https://localhost:8080/"
        },
        "outputId": "5b3a43d4-e3e8-4a3c-8df9-e9bd6159d6ec"
      },
      "execution_count": null,
      "outputs": [
        {
          "output_type": "stream",
          "name": "stdout",
          "text": [
            "Fitting 5 folds for each of 54 candidates, totalling 270 fits\n",
            "XGBoost RMSE scores for each fold: [0.91101238 0.90958526 0.91188449 0.90856253 0.91111231]\n",
            "Average XGBoost RMSE: 0.9104313941566133\n"
          ]
        }
      ]
    },
    {
      "cell_type": "markdown",
      "source": [
        "Optimizing RMSE score using GridSearchCV"
      ],
      "metadata": {
        "id": "92C2c5yFo0JD"
      }
    },
    {
      "cell_type": "code",
      "source": [
        "from sklearn.model_selection import GridSearchCV\n",
        "\n",
        "param_grid = {\n",
        "    'n_estimators': [10, 20, 30],\n",
        "    'max_depth': [None],\n",
        "    'min_samples_split': [2, 5],\n",
        "    'min_samples_leaf': [1, 2]\n",
        "}\n",
        "\n",
        "# Initialize the RandomForestRegressor\n",
        "rf_model = RandomForestRegressor(random_state=42)\n",
        "\n",
        "grid_search = GridSearchCV(estimator=rf_model, param_grid=param_grid, cv=4,\n",
        "                           scoring='neg_mean_squared_error', n_jobs=3, verbose=1)\n",
        "grid_search.fit(x, y)\n",
        "best_rf = grid_search.best_estimator_\n",
        "best_rf_mse = cross_val_score(best_rf, x, y, cv=4, scoring='neg_mean_squared_error')\n",
        "best_rf_rmse = np.sqrt(-best_rf_mse)\n",
        "print(\"Improved Random Forest RMSE scores for each fold:\", best_rf_rmse)\n",
        "print(\"Improved Average RF RMSE:\", np.mean(best_rf_rmse))"
      ],
      "metadata": {
        "id": "0XKjdFIq0j40",
        "colab": {
          "base_uri": "https://localhost:8080/"
        },
        "outputId": "e6c19797-520a-4550-ef95-7dfa8e9d4ce6"
      },
      "execution_count": null,
      "outputs": [
        {
          "output_type": "stream",
          "name": "stdout",
          "text": [
            "Fitting 4 folds for each of 12 candidates, totalling 48 fits\n",
            "Improved Random Forest RMSE scores for each fold: [0.88934329 0.86134032 0.85136732 0.85988623]\n",
            "Improved Average RF RMSE: 0.8654842888958264\n"
          ]
        }
      ]
    }
  ]
}